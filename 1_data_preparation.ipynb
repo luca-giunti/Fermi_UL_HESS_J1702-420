{
 "cells": [
  {
   "cell_type": "code",
   "execution_count": 12,
   "metadata": {},
   "outputs": [],
   "source": [
    "from fermipy.gtanalysis import GTAnalysis\n",
    "from gammapy.maps import Map, MapAxis\n",
    "from gammapy.data import EventList\n",
    "from astropy.coordinates import SkyCoord\n",
    "import numpy as np\n",
    "import astropy.units as u\n",
    "import matplotlib.pyplot as plt"
   ]
  },
  {
   "cell_type": "markdown",
   "metadata": {},
   "source": [
    "# Data preparation\n",
    "\n",
    "## Query\n",
    "\n",
    "The data (photon event file and spacecraft file) were retrieved from the LAT data server, hosted on a public and continuously updated [website](https://fermi.gsfc.nasa.gov/cgi-bin/ssc/LAT/LATDataQuery.cgi), through a query defined by the following parameters:\n",
    "\n",
    "| Galactic coordinates | Time range (MET) [s]  | Energy range  | Search radius|\n",
    "|------|------|------|------|\n",
    "|$(344.2^\\mathrm{o}, -0.1^\\mathrm{o})$   | $(239557417, 568889041)$ |  $(10\\; \\mathrm{GeV}, 1\\; \\mathrm{TeV})$| $2^\\mathrm{o}$|\n",
    "\n",
    "This dataset corresponds to $\\sim 10$ years of Fermi LAT observaions (in Gregorian system, from the 4th of August 2008 to the 11th of January 2019).\n",
    "\n",
    "The center of the ROI corresponds approximately with the position of the TeV extended source HESS J1702-420.   \n",
    "\n",
    "We chose to adopt a 10 GeV energy threshold, in order to benefit of a relatively narrow PSF. The 68% containment radius of the LAT PSF is $0.15^\\mathrm{o}$ at 10 GeV, and drops below $0.1^\\mathrm{o}$ for $\\gamma$-rays with energies beyond 35 GeV."
   ]
  },
  {
   "cell_type": "markdown",
   "metadata": {},
   "source": [
    "## Selection\n",
    "\n",
    "The `GTAnalisis` class from fermipy, provides a friendly interface to the Fermi LAT Science Tools (hereafter, \"stools\"). In order to perform the analysis, the first step consists in creating an instance of `GTAnalisis` that reads from a config file, which specifies the data selection and binning that we want to adopt, together with the source catalog and diffuse emission templates that we wish to use for modeling the Region Of Interest (ROI). Namely, in this analysis we decide to adopt a spatial binning based on square pixels with side $0.05^\\mathrm{o}$."
   ]
  },
  {
   "cell_type": "code",
   "execution_count": 2,
   "metadata": {},
   "outputs": [
    {
     "name": "stderr",
     "output_type": "stream",
     "text": [
      "WARNING: VerifyWarning: Invalid keyword for column 8: Column null option (TNULLn) is invalid for binary table columns of type 'E' (got 16959).  The invalid value will be ignored for the purpose of formatting the data in this column. [astropy.io.fits.column]\n",
      "WARNING: VerifyWarning: Invalid keyword for column 46: Column null option (TNULLn) is invalid for binary table columns of type 'E' (got 16959).  The invalid value will be ignored for the purpose of formatting the data in this column. [astropy.io.fits.column]\n"
     ]
    }
   ],
   "source": [
    "gta = GTAnalysis('config.yaml', logging={'verbosity' : 1}) # Set verbosity to 2 or 3 to get more output"
   ]
  },
  {
   "cell_type": "markdown",
   "metadata": {},
   "source": [
    "Note that the slowest step of the data preparation (performed by `gta.setup()`) is the calculation of the livetime cube. The latter is, a 3D FITS file, storing the observation livetime as a function of sky position and off-axis angle. This step is useful in order to speed up the subsequent exposure map computation, but for a dataset as big as the one we are using it can take as long as 1 day (depending on the machine). That's why we provide the livetime cube already prepared, in the file ltcube_00.fits. In order to further speed up this step, we provide all its outputs and recommend the use of the \"overwrite=False\" argument in the next cell. The user who is interested in repeating this data preparation step may simply run `gta.setup(overwrite=True)` instead of the following cell, and substitute the key-value pair `ltcube : ltcube_00.fits` with `ltcube : null` in the config file."
   ]
  },
  {
   "cell_type": "code",
   "execution_count": 3,
   "metadata": {},
   "outputs": [],
   "source": [
    "gta.setup(overwrite=False)"
   ]
  },
  {
   "cell_type": "markdown",
   "metadata": {},
   "source": [
    "## Dataset inspection\n",
    "\n",
    "Before moving on with the analysis, we take a look at a few statistical properties of the dataset, plot an histogram representing the number of events in each energy bin, and plot a smoothed counts map for the ROI. "
   ]
  },
  {
   "cell_type": "code",
   "execution_count": 4,
   "metadata": {},
   "outputs": [
    {
     "name": "stdout",
     "output_type": "stream",
     "text": [
      "EventList info:\n",
      "- Number of events: 4482\n",
      "- Median energy: 1.66e+04 MeV\n",
      "\n",
      "mean = 32145.8984375 MeV\n",
      "std = 58339.9023438 MeV\n",
      "min = 10001.6425781 MeV\n",
      "max = 876268.0 MeV\n",
      "n_bad = 0\n",
      "length = 4482\n"
     ]
    }
   ],
   "source": [
    "events = EventList.read(\n",
    "    \"ft1_00.fits\"\n",
    ")\n",
    "print(events)\n",
    "events.energy.info(\"stats\")"
   ]
  },
  {
   "cell_type": "code",
   "execution_count": 9,
   "metadata": {},
   "outputs": [
    {
     "name": "stdout",
     "output_type": "stream",
     "text": [
      "Highest energy:   876 GeV\n"
     ]
    }
   ],
   "source": [
    "print(\"Highest energy: {0:5.0f}\".format(np.max(events.energy.to('GeV').value) * u.GeV))"
   ]
  },
  {
   "cell_type": "code",
   "execution_count": 10,
   "metadata": {},
   "outputs": [
    {
     "name": "stdout",
     "output_type": "stream",
     "text": [
      "Events above   10 GeV:  4482\n",
      "Events above   13 GeV:  3033\n",
      "Events above   17 GeV:  2077\n",
      "Events above   23 GeV:  1468\n",
      "Events above   31 GeV:  1028\n",
      "Events above   40 GeV:   711\n",
      "Events above   54 GeV:   516\n",
      "Events above   71 GeV:   346\n",
      "Events above   94 GeV:   227\n",
      "Events above  124 GeV:   150\n",
      "Events above  164 GeV:   107\n",
      "Events above  217 GeV:    67\n",
      "Events above  287 GeV:    43\n",
      "Events above  379 GeV:    27\n",
      "Events above  502 GeV:    15\n",
      "Events above  664 GeV:    11\n",
      "Events above  878 GeV:     0\n"
     ]
    },
    {
     "data": {
      "image/png": "[encoded data removed]",
      "text/plain": [
       "<matplotlib.figure.Figure at 0x7ff8b69053d0>"
      ]
     },
     "metadata": {
      "needs_background": "light"
     },
     "output_type": "display_data"
    }
   ],
   "source": [
    "%matplotlib inline\n",
    "events.plot_energy()\n",
    "\n",
    "bins_edges=np.logspace(1, np.log10(877.938),17) * u.GeV # Edges of the evenly spaced (in log scale) energy bins\n",
    "                                                        # used in the analysis, as defined in the config file\n",
    "for e_min in bins_edges:\n",
    "    n = (events.energy > e_min).sum()\n",
    "    print(\"Events above {0:4.0f}: {1:5.0f}\".format(e_min, n))"
   ]
  },
  {
   "cell_type": "markdown",
   "metadata": {},
   "source": [
    "### As expected, most of the events are reconstructed in the energy range between 10 and few 10s of GeV. \n",
    "However, there are photons whose energies extend up and beyond 100s of GeV. Let's see now how the events are spatially distributed:"
   ]
  },
  {
   "cell_type": "code",
   "execution_count": 13,
   "metadata": {},
   "outputs": [
    {
     "data": {
      "image/png": "[encoded data removed]",
      "text/plain": [
       "<matplotlib.figure.Figure at 0x7ff8b584fb50>"
      ]
     },
     "metadata": {
      "needs_background": "light"
     },
     "output_type": "display_data"
    }
   ],
   "source": [
    "map_center = SkyCoord(344.2, -0.1, unit=\"deg\", frame=\"galactic\")\n",
    "energy_axis = MapAxis.from_edges(\n",
    "    bins_edges.value, name=\"energy\", unit=\"GeV\", interp=\"log\"\n",
    ")\n",
    "counts_map = Map.create(\n",
    "    skydir=map_center,\n",
    "    npix=(80,80),\n",
    "    proj=\"AIT\",\n",
    "    coordsys=\"GAL\",\n",
    "    binsz=0.05,\n",
    "    axes=[energy_axis],\n",
    ")\n",
    "\n",
    "counts_map.fill_by_coord(\n",
    "    {\n",
    "        \"skycoord\": events.galactic,\n",
    "        \"energy\": events.energy,\n",
    "    }\n",
    ")\n",
    "\n",
    "\n",
    "# The counts map is smoothyed using a Gaussian kernel with\n",
    "# 68% containment radius equal to 0.1 degrees. Indeed, above \n",
    "# 10 Gev the 68% containment radius of the Fermi LAT PFS drops\n",
    "# around/below 0.1 degrees\n",
    "# (http://www.slac.stanford.edu/exp/glast/groups/canda/lat_Performance.htm)\n",
    "%matplotlib inline\n",
    "plt.figure(figsize=(8, 6))\n",
    "\n",
    "fig, ax, _ = counts_map.sum_over_axes().smooth(kernel=\"gauss\", width=0.1 * u.deg).plot(add_cbar=True, cmap='inferno');"
   ]
  },
  {
   "cell_type": "code",
   "execution_count": 15,
   "metadata": {},
   "outputs": [],
   "source": [
    "# Save the analysis checkpoint\n",
    "counts_map.write(\"countsmap.fits\", overwrite=True)\n",
    "gta.write_roi('starting_model',make_plots=False,save_model_map=True)"
   ]
  }
 ],
 "metadata": {
  "kernelspec": {
   "display_name": "Python 2",
   "language": "python",
   "name": "python2"
  },
  "language_info": {
   "codemirror_mode": {
    "name": "ipython",
    "version": 2
   },
   "file_extension": ".py",
   "mimetype": "text/x-python",
   "name": "python",
   "nbconvert_exporter": "python",
   "pygments_lexer": "ipython2",
   "version": "2.7.14"
  }
 },
 "nbformat": 4,
 "nbformat_minor": 2
}
